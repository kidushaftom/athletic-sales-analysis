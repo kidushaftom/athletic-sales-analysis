{
 "cells": [
  {
   "cell_type": "code",
   "execution_count": null,
   "metadata": {},
   "outputs": [],
   "source": [
    "# Import Libraries and Dependencies\n",
    "import pandas as pd"
   ]
  },
  {
   "cell_type": "markdown",
   "metadata": {},
   "source": [
    "### Read in files"
   ]
  },
  {
   "cell_type": "code",
   "execution_count": null,
   "metadata": {},
   "outputs": [],
   "source": [
    "# Read in data and index by CustomerID\n",
    "jan = pd.read_csv('Resources/Jan2019_sales.csv', index_col='order_ID')\n",
    "feb = pd.read_csv('Resources/Feb2019_sales.csv', index_col='order_ID')\n",
    "mar = pd.read_csv('Resources/March2019_sales.csv', index_col='order_ID')"
   ]
  },
  {
   "cell_type": "code",
   "execution_count": null,
   "metadata": {},
   "outputs": [],
   "source": [
    "# Show sample of January sales data.\n",
    "jan.head(5)"
   ]
  },
  {
   "cell_type": "code",
   "execution_count": null,
   "metadata": {},
   "outputs": [],
   "source": [
    "# Show sample of February sales data.\n",
    "feb.head(5)"
   ]
  },
  {
   "cell_type": "code",
   "execution_count": null,
   "metadata": {},
   "outputs": [],
   "source": [
    "# Show sample of March sales data.\n",
    "mar.head(5)"
   ]
  },
  {
   "cell_type": "markdown",
   "metadata": {},
   "source": [
    "### Check the data types of each DataFrame"
   ]
  },
  {
   "cell_type": "code",
   "execution_count": null,
   "metadata": {},
   "outputs": [],
   "source": [
    "# Jan sales datatypes\n",
    "jan.info()"
   ]
  },
  {
   "cell_type": "code",
   "execution_count": null,
   "metadata": {},
   "outputs": [],
   "source": [
    "# Feb sales datatypes\n",
    "feb.info()"
   ]
  },
  {
   "cell_type": "code",
   "execution_count": null,
   "metadata": {},
   "outputs": [],
   "source": [
    "# March sales datatypes\n",
    "mar.info()"
   ]
  },
  {
   "cell_type": "markdown",
   "metadata": {},
   "source": [
    "### Combine the sales data by rows."
   ]
  },
  {
   "cell_type": "code",
   "execution_count": null,
   "metadata": {},
   "outputs": [],
   "source": [
    "# Combine the January, February, and March sales DataFrames on the rows using an inner join, and reset the index\n",
    "sales = pd.concat([jan, feb,mar], axis='rows',join = 'inner', ignore_index=False).reset_index()\n",
    "\n",
    "#unit test - check if joined properly\n",
    "# sum of all data frame count\n",
    "total_count = jan.shape[0] + feb.shape[0] + mar.shape[0]  \n",
    "\n",
    "# Count after all data frame combined \n",
    "# Assuming 'sales' is a DataFrame or any other data structure with rows representing sales data\n",
    "\n",
    "# Get the total number of rows in the 'sales' DataFrame\n",
    "total_joined_count = sales.shape[0]   \n",
    "\n",
    "# Check if the total number of rows in 'sales' matches the expected total count\n",
    "if total_count == total_joined_count:\n",
    "    # If the counts match, print a message indicating successful joining\n",
    "    print(f\"Joined properly. Total count: {total_count} == Joined count: {total_joined_count}\")\n",
    "else:\n",
    "    # If the counts do not match, print an error message indicating a problem in joining\n",
    "    print(f'Error on joining. Total count: {total_count} != Joined count: {total_joined_count}')\n",
    "\n",
    "\n",
    "sales.head(2)"
   ]
  },
  {
   "cell_type": "code",
   "execution_count": null,
   "metadata": {},
   "outputs": [],
   "source": [
    "# Check if any values are null.\n",
    "sales.isna().sum()\n"
   ]
  },
  {
   "cell_type": "markdown",
   "metadata": {},
   "source": [
    "There are no missing values, no need for removing or imputing "
   ]
  },
  {
   "cell_type": "code",
   "execution_count": null,
   "metadata": {},
   "outputs": [],
   "source": [
    "# Check the data type of each column\n",
    "sales.info()"
   ]
  },
  {
   "cell_type": "code",
   "execution_count": null,
   "metadata": {},
   "outputs": [],
   "source": [
    "# Convert the \"order_date\" column to a datetime datatype.\n",
    "sales['order_date'] = pd.to_datetime(sales['order_date'], format='%m/%d/%y %H:%M')\n",
    "\n",
    "\n"
   ]
  },
  {
   "cell_type": "code",
   "execution_count": null,
   "metadata": {},
   "outputs": [],
   "source": [
    "# Confirm that the data type has been changed.\n",
    "sales['order_date'].head()"
   ]
  },
  {
   "cell_type": "markdown",
   "metadata": {},
   "source": [
    "### 1. Which top five zip codes in which cities and states had the greatest number of products ordered?"
   ]
  },
  {
   "cell_type": "markdown",
   "metadata": {},
   "source": [
    "### Using `groupby`"
   ]
  },
  {
   "cell_type": "code",
   "execution_count": null,
   "metadata": {},
   "outputs": [],
   "source": [
    "# Show the average number items ordered for each state, city, and zip code.\n",
    "def agg_values(df, cat_col, num_col, stat):\n",
    "    \"\"\"\n",
    "    Aggregates data based on categorical columns and numerical columns using a specified aggregation function.\n",
    "\n",
    "    Args:\n",
    "        df (DataFrame): The input DataFrame.\n",
    "        cat_col (str or list): Categorical column(s) to group by.\n",
    "        num_col (str): Numerical column to aggregate.\n",
    "        stat (str or dict): Type of aggregation. Can be a string representing a common aggregation function \n",
    "                            (e.g., 'mean', 'sum') or a dictionary specifying column-specific aggregation functions.\n",
    "\n",
    "    Returns:\n",
    "        DataFrame: Aggregated DataFrame with categorical columns and the specified aggregated numerical column.\n",
    "\n",
    "    Example:\n",
    "        df = pd.DataFrame({'Category': ['A', 'B', 'A', 'B'],\n",
    "                           'Value': [10, 20, 30, 40]})\n",
    "        result = agg_values(df, 'Category', 'Value', 'sum')\n",
    "    \"\"\"\n",
    "    # Group by the specified categorical column(s) and aggregate the numerical column using the specified aggregation function\n",
    "    aggs = df.groupby(cat_col).agg({num_col: stat})\n",
    "\n",
    "    # Sort the aggregated DataFrame by the numerical column in descending order\n",
    "    aggs_sorted = aggs.sort_values(num_col, ascending=False)\n",
    "\n",
    "    # Reset the index to make the resulting DataFrame more readable\n",
    "    return aggs_sorted\n",
    "\n",
    "\n",
    "avg_items_ordered = agg_values(sales, ['state','city','zip_code'],'quantity_ordered','mean')\n",
    "# Rename the sum column to reflect the data in the column.\n",
    "avg_items_ordered.rename(columns={'quantity_ordered':'avg_items_ordered'},inplace= True)\n",
    "\n",
    "\n",
    "# Show the top 5 results.\n",
    "round(avg_items_ordered,2).head()\n",
    "\n"
   ]
  },
  {
   "cell_type": "markdown",
   "metadata": {},
   "source": [
    "### Using `pivot_table`"
   ]
  },
  {
   "cell_type": "code",
   "execution_count": null,
   "metadata": {},
   "outputs": [],
   "source": [
    "# Show the total number of items ordered for each state, city, and zip code.\n",
    "def agg_pivot(df, cat_col, num_col, stat):\n",
    "    \"\"\"\n",
    "    Creates a pivot table by aggregating data based on categorical columns and numerical columns.\n",
    "\n",
    "    Args:\n",
    "        df (DataFrame): The input DataFrame.\n",
    "        cat_col (str or list): Categorical column(s) to be used as index in the pivot table.\n",
    "        num_col (str): Numerical column to aggregate.\n",
    "        stat (str or dict): Type of aggregation. Can be a string representing a common aggregation function \n",
    "                            (e.g., 'mean', 'sum') or a dictionary specifying column-specific aggregation functions.\n",
    "\n",
    "    Returns:\n",
    "        DataFrame: Pivot table with categorical columns as index and the specified aggregated numerical column.\n",
    "\n",
    "    Example:\n",
    "        df = pd.DataFrame({'Category': ['A', 'B', 'A', 'B'],\n",
    "                           'Value': [10, 20, 30, 40]})\n",
    "        result = agg_pivot(df, 'Category', 'Value', 'sum')\n",
    "    \"\"\"\n",
    "    # Create a pivot table using the specified categorical column(s) as index, numerical column for values, and aggregation function\n",
    "    pivot_table = pd.pivot_table(df, values=num_col, index=cat_col, aggfunc=stat)\n",
    "\n",
    "    # Sort the pivot table by the aggregated numerical column in descending order\n",
    "    sorted_pivot_table = pivot_table.sort_values(num_col, ascending=False)\n",
    "\n",
    "    # Reset the index to make the resulting DataFrame more readable\n",
    "    return sorted_pivot_table\n",
    "\n",
    "#---------------------------------------------------------------------------------------------------\n",
    "\n",
    "items_ordered_pivot = agg_pivot(sales,['state','city','zip_code'],'quantity_ordered','sum')\n",
    "\n",
    "\n",
    "# Rename the \"sum\" column to \"Avg_Number_Products_Ordered\"\n",
    "\n",
    "items_ordered_pivot.rename(columns={'quantity_ordered':'total_items_ordered'},inplace= True)\n",
    "\n",
    "# Show the top 5 results.\n",
    "items_ordered_pivot.head()\n"
   ]
  },
  {
   "cell_type": "markdown",
   "metadata": {},
   "source": [
    "### 2. Which top five zip codes in which cities and states generated the most sales?"
   ]
  },
  {
   "cell_type": "markdown",
   "metadata": {},
   "source": [
    "### Using `groupby`"
   ]
  },
  {
   "cell_type": "code",
   "execution_count": null,
   "metadata": {},
   "outputs": [],
   "source": [
    "# Show the total price for the items ordered for each state, city, and zip code.\n",
    "sales['total_price'] = sales['price']* sales['quantity_ordered']\n",
    "\n",
    "total_sales_price = agg_values(sales,['state','city','zip_code'],'total_price','sum')\n",
    "\n",
    "#Format price\n",
    "total_sales_price['total_price'] = total_sales_price['total_price'].map('${:,.2f}'.format)\n",
    "\n",
    "# Rename the sum column to reflect the data in the column.\n",
    "total_sales_price.rename(columns={'total_price':'total_sales_price'},inplace= True)\n",
    "\n",
    "# Show the top 5 results.\n",
    "\n",
    "total_sales_price.head()\n"
   ]
  },
  {
   "cell_type": "markdown",
   "metadata": {},
   "source": [
    "### Using `pivot_table`"
   ]
  },
  {
   "cell_type": "code",
   "execution_count": null,
   "metadata": {},
   "outputs": [],
   "source": [
    "# Show the total price for all of the items ordered for each state, city, and zip code.\n",
    "total_sales_pivot = agg_pivot(sales,['state','city','zip_code'],'total_price','sum')\n",
    "\n",
    "# Rename the \"sum\" column to \"Avg_Number_Products_Ordered\"\n",
    "\n",
    "total_sales_pivot['total_price'] = total_sales_pivot['total_price'].map('${:,.2f}'.format)\n",
    "\n",
    "\n",
    "# Show the top 5 results.\n",
    "total_sales_pivot.head()\n"
   ]
  },
  {
   "cell_type": "markdown",
   "metadata": {},
   "source": [
    "### 3. Which top five zip codes in which cities and states had the greatest average price for the products ordered?"
   ]
  },
  {
   "cell_type": "markdown",
   "metadata": {},
   "source": [
    "### Using `groupby`"
   ]
  },
  {
   "cell_type": "code",
   "execution_count": null,
   "metadata": {},
   "outputs": [],
   "source": [
    "# Show the average price of items ordered for each state, city, and zip code rounded to two decimal places.\n",
    "avg_price = agg_values(sales,['state','city','zip_code'],'price','mean')\n",
    "\n",
    "# Rename the mean column to reflect the data in the column.\n",
    "avg_price.rename(columns={'price':'avg_price_per_product'},inplace= True)\n",
    "\n",
    "#Round and format price\n",
    "avg_price['avg_price_per_product'] = round(avg_price['avg_price_per_product'],2)\n",
    "avg_price['avg_price_per_product'] = avg_price['avg_price_per_product'].map('${:,.2f}'.format)\n",
    "\n",
    "# Show the top 5 results.\n",
    "avg_price.head()"
   ]
  },
  {
   "cell_type": "markdown",
   "metadata": {},
   "source": [
    "### Using `pivot_table`"
   ]
  },
  {
   "cell_type": "code",
   "execution_count": null,
   "metadata": {},
   "outputs": [],
   "source": [
    "# Show the average price per product ordered for each state, city, and zip code rounded to two decimal places.\n",
    "\n",
    "avg_price_pivot = agg_pivot(sales,['state','city','zip_code'],'price','mean')\n",
    "\n",
    "# Rename the \"sum\" column to \"Avg_Number_Products_Ordered\"\n",
    "avg_price_pivot['price'] = avg_price_pivot['price'].map('${:,.2f}'.format)\n",
    "avg_price_pivot.rename(columns={'price':'avg_price_per_product'},inplace= True)\n",
    "\n",
    "# Show the top 5 results.\n",
    "avg_price_pivot.head()\n",
    "\n"
   ]
  },
  {
   "cell_type": "markdown",
   "metadata": {},
   "source": [
    "### 4. Which top five zip codes in which cities and states had the most iPhone sales?"
   ]
  },
  {
   "cell_type": "code",
   "execution_count": null,
   "metadata": {},
   "outputs": [],
   "source": [
    "# Filter the sales data to get the iPhone sales data.\n",
    "iphone_sales = sales[sales['product'].str.contains('iphone',case=False)]\n",
    "\n",
    "#print head\n",
    "iphone_sales.head(5)"
   ]
  },
  {
   "cell_type": "markdown",
   "metadata": {},
   "source": [
    "### Using `groupby`"
   ]
  },
  {
   "cell_type": "code",
   "execution_count": null,
   "metadata": {},
   "outputs": [],
   "source": [
    "# Show the total number of items ordered for each state, city, and zip code.\n",
    "total_iphone_ordered = agg_values(iphone_sales,['state','city','zip_code'],'quantity_ordered','sum')\n",
    "\n",
    "# Rename the count column to reflect the data in the column.\n",
    "total_iphone_ordered.rename(columns={'quantity_ordered':'total_iphone_ordered'},inplace=True)\n",
    "\n",
    "#Show the top 5 results.\n",
    "total_iphone_ordered.head()"
   ]
  },
  {
   "cell_type": "markdown",
   "metadata": {},
   "source": [
    "### Using `pivot_table`"
   ]
  },
  {
   "cell_type": "code",
   "execution_count": null,
   "metadata": {},
   "outputs": [],
   "source": [
    "# Show the total number of items ordered for each city and zip code.\n",
    "total_iphone_ordered_pivot = agg_pivot(iphone_sales,['state','city','zip_code'],'quantity_ordered','sum')\n",
    "\n",
    "# Rename the \"quantity_ordered\" column to \"Number_Ordered\"\n",
    "total_iphone_ordered_pivot.rename(columns={'quantity_ordered':'total_iphone_ordered'},inplace=True)\n",
    "\n",
    "# Show the top 5 results.\n",
    "total_iphone_ordered_pivot.head()"
   ]
  },
  {
   "cell_type": "markdown",
   "metadata": {},
   "source": [
    "### 5. Which day had the most iPhone sales?"
   ]
  },
  {
   "cell_type": "code",
   "execution_count": null,
   "metadata": {},
   "outputs": [],
   "source": [
    "# Create a pivot table with the 'order_date' as the index and the \"price\" as the values.\n",
    "sales_iphone_pivot = iphone_sales[['order_date','price']].set_index('order_date')\n",
    "sales_iphone_pivot\n",
    "\n",
    "# Rename the \"price\" column to \"Total_Sales\"\n",
    "sales_iphone_pivot.rename(columns={'price':'Total_sales'},inplace=True)\n",
    "\n",
    "#Show the table.\n",
    "sales_iphone_pivot.head()"
   ]
  },
  {
   "cell_type": "code",
   "execution_count": null,
   "metadata": {},
   "outputs": [],
   "source": [
    "# Resample the pivot table into daily bins \n",
    "daily_iphone_sales = sales_iphone_pivot.resample('D')\n",
    "\n",
    "# aggrigate to daily sales\n",
    "daily_total_sales  = daily_iphone_sales.sum()\n",
    "\n",
    "#top 5 \n",
    "daily_total_sales.sort_values('Total_sales',ascending= False).head()"
   ]
  },
  {
   "cell_type": "markdown",
   "metadata": {},
   "source": [
    "### 6.  Which week had the most iPhone sales?"
   ]
  },
  {
   "cell_type": "code",
   "execution_count": null,
   "metadata": {},
   "outputs": [],
   "source": [
    "# Resample the pivot table into weekly bins \n",
    "# and get the total sales for each week rounded to two decimal places.\n",
    "weekly_iphone_sales = sales_iphone_pivot.resample('W')\n",
    "\n",
    "# aggrigate to daily sales\n",
    "weekly_total_iphone_sales = weekly_iphone_sales.sum()\n",
    "\n",
    "#top 5 \n",
    "weekly_total_iphone_sales.sort_values('Total_sales',ascending= False).head()"
   ]
  },
  {
   "cell_type": "code",
   "execution_count": null,
   "metadata": {},
   "outputs": [],
   "source": []
  }
 ],
 "metadata": {
  "kernelspec": {
   "display_name": "Python 3 (ipykernel)",
   "language": "python",
   "name": "python3"
  },
  "language_info": {
   "codemirror_mode": {
    "name": "ipython",
    "version": 3
   },
   "file_extension": ".py",
   "mimetype": "text/x-python",
   "name": "python",
   "nbconvert_exporter": "python",
   "pygments_lexer": "ipython3",
   "version": "3.10.13"
  }
 },
 "nbformat": 4,
 "nbformat_minor": 4
}
