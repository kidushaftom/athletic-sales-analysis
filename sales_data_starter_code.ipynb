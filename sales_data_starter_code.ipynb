{
 "cells": [
  {
   "cell_type": "code",
   "execution_count": 26,
   "metadata": {},
   "outputs": [],
   "source": [
    "# Import Libraries and Dependencies\n",
    "import pandas as pd"
   ]
  },
  {
   "cell_type": "markdown",
   "metadata": {},
   "source": [
    "### Read in files"
   ]
  },
  {
   "cell_type": "code",
   "execution_count": 27,
   "metadata": {},
   "outputs": [],
   "source": [
    "# Read in data and index by CustomerID\n",
    "# Read in data and index by CustomerID\n",
    "try:\n",
    "  jan = pd.read_csv('Resources/Jan2019_sales.csv', index_col='order_ID')\n",
    "  feb = pd.read_csv('Resources/Feb2019_sales.csv', index_col='order_ID')\n",
    "  mar = pd.read_csv('Resources/March2019_sales.csv', index_col='order_ID')\n",
    "except FileNotFoundError as e:\n",
    "  print(e)"
   ]
  },
  {
   "cell_type": "code",
   "execution_count": 28,
   "metadata": {},
   "outputs": [
    {
     "name": "stdout",
     "output_type": "stream",
     "text": [
      "                           product  quantity_ordered   price      order_date  \\\n",
      "order_ID                                                                       \n",
      "141234                      iPhone                 1  700.00  01/22/19 21:25   \n",
      "141235    Lightning Charging Cable                 1   14.95  01/28/19 14:15   \n",
      "141236            Wired Headphones                 2   11.99  01/17/19 13:33   \n",
      "141237            27in FHD Monitor                 1  149.99  01/05/19 20:33   \n",
      "141238            Wired Headphones                 1   11.99  01/25/19 11:59   \n",
      "\n",
      "         state           city  zip_code  \n",
      "order_ID                                 \n",
      "141234      FL        Orlando     32807  \n",
      "141235      FL          Miami     33137  \n",
      "141236      GA        Atlanta     30318  \n",
      "141237      CA    Los Angeles     90014  \n",
      "141238      CA  San Francisco     94016  \n"
     ]
    }
   ],
   "source": [
    "# Show sample of January sales data.\n",
    "try:\n",
    "    print(jan.head(5))\n",
    "except NameError as e:\n",
    "    print(e)\n"
   ]
  },
  {
   "cell_type": "code",
   "execution_count": 29,
   "metadata": {},
   "outputs": [
    {
     "name": "stdout",
     "output_type": "stream",
     "text": [
      "                           product  quantity_ordered   price      order_date  \\\n",
      "order_ID                                                                       \n",
      "150502                      iPhone                 1  700.00  02/18/19 01:35   \n",
      "150503       AA Batteries (4-pack)                 1    3.84  02/13/19 07:24   \n",
      "150504      27in 4K Gaming Monitor                 1  389.99  02/18/19 09:46   \n",
      "150505    Lightning Charging Cable                 1   14.95  02/02/19 16:47   \n",
      "150506       AA Batteries (4-pack)                 2    3.84  02/28/19 20:32   \n",
      "\n",
      "         state          city  zip_code  \n",
      "order_ID                                \n",
      "150502      PA  Philadelphia     19132  \n",
      "150503      CA     San Diego     91911  \n",
      "150504      CA     San Diego     91911  \n",
      "150505      FL       Orlando     32822  \n",
      "150506      WA       Seattle     98115  \n"
     ]
    }
   ],
   "source": [
    "# Show sample of February sales data.\n",
    "try:\n",
    "  print(feb.head())\n",
    "except NameError as e:\n",
    "  print(e)"
   ]
  },
  {
   "cell_type": "code",
   "execution_count": 30,
   "metadata": {},
   "outputs": [
    {
     "name": "stdout",
     "output_type": "stream",
     "text": [
      "                             product  quantity_ordered   price  \\\n",
      "order_ID                                                         \n",
      "162009                        iPhone                 1  700.00   \n",
      "162009      Lightning Charging Cable                 1   14.95   \n",
      "162009              Wired Headphones                 2   11.99   \n",
      "162010    Bose SoundSport Headphones                 1   99.99   \n",
      "162011        34in Ultrawide Monitor                 1  379.99   \n",
      "\n",
      "              order_date state         city  zip_code  \n",
      "order_ID                                               \n",
      "162009    03/28/19 20:59    CA  Los Angeles     90008  \n",
      "162009    03/28/19 20:59    TX       Austin     78729  \n",
      "162009    03/28/19 20:59    OR     Portland     97209  \n",
      "162010    03/17/19 05:39    FL        Miami     33125  \n",
      "162011    03/10/19 00:01    CA    San Diego     92029  \n"
     ]
    }
   ],
   "source": [
    "# Show sample of March sales data.\n",
    "try:\n",
    " print(mar.head())\n",
    "except NameError as e:\n",
    " print(e)"
   ]
  },
  {
   "cell_type": "markdown",
   "metadata": {},
   "source": [
    "### Check the data types of each DataFrame"
   ]
  },
  {
   "cell_type": "code",
   "execution_count": 31,
   "metadata": {},
   "outputs": [
    {
     "name": "stdout",
     "output_type": "stream",
     "text": [
      "<class 'pandas.core.frame.DataFrame'>\n",
      "Index: 9681 entries, 141234 to 150501\n",
      "Data columns (total 7 columns):\n",
      " #   Column            Non-Null Count  Dtype  \n",
      "---  ------            --------------  -----  \n",
      " 0   product           9681 non-null   object \n",
      " 1   quantity_ordered  9681 non-null   int64  \n",
      " 2   price             9681 non-null   float64\n",
      " 3   order_date        9681 non-null   object \n",
      " 4   state             9681 non-null   object \n",
      " 5   city              9681 non-null   object \n",
      " 6   zip_code          9681 non-null   int64  \n",
      "dtypes: float64(1), int64(2), object(4)\n",
      "memory usage: 605.1+ KB\n",
      "None\n"
     ]
    }
   ],
   "source": [
    "# Jan sales datatypes\n",
    "try:\n",
    " print(jan.info())\n",
    "except NameError as e:\n",
    "    print(e)"
   ]
  },
  {
   "cell_type": "code",
   "execution_count": 32,
   "metadata": {},
   "outputs": [
    {
     "name": "stdout",
     "output_type": "stream",
     "text": [
      "<class 'pandas.core.frame.DataFrame'>\n",
      "Index: 11986 entries, 150502 to 162008\n",
      "Data columns (total 7 columns):\n",
      " #   Column            Non-Null Count  Dtype  \n",
      "---  ------            --------------  -----  \n",
      " 0   product           11986 non-null  object \n",
      " 1   quantity_ordered  11986 non-null  int64  \n",
      " 2   price             11986 non-null  float64\n",
      " 3   order_date        11986 non-null  object \n",
      " 4   state             11986 non-null  object \n",
      " 5   city              11986 non-null  object \n",
      " 6   zip_code          11986 non-null  int64  \n",
      "dtypes: float64(1), int64(2), object(4)\n",
      "memory usage: 749.1+ KB\n",
      "None\n"
     ]
    }
   ],
   "source": [
    "# Feb sales datatypes\n",
    "try:\n",
    " print(feb.info())\n",
    "except NameError as e:\n",
    "    print(e)"
   ]
  },
  {
   "cell_type": "code",
   "execution_count": 33,
   "metadata": {},
   "outputs": [
    {
     "name": "stdout",
     "output_type": "stream",
     "text": [
      "<class 'pandas.core.frame.DataFrame'>\n",
      "Index: 15154 entries, 162009 to 176557\n",
      "Data columns (total 7 columns):\n",
      " #   Column            Non-Null Count  Dtype  \n",
      "---  ------            --------------  -----  \n",
      " 0   product           15154 non-null  object \n",
      " 1   quantity_ordered  15154 non-null  int64  \n",
      " 2   price             15154 non-null  float64\n",
      " 3   order_date        15154 non-null  object \n",
      " 4   state             15154 non-null  object \n",
      " 5   city              15154 non-null  object \n",
      " 6   zip_code          15154 non-null  int64  \n",
      "dtypes: float64(1), int64(2), object(4)\n",
      "memory usage: 947.1+ KB\n",
      "None\n"
     ]
    }
   ],
   "source": [
    "# March sales datatypes\n",
    "try:\n",
    " print(mar.info())\n",
    "except NameError as e:\n",
    "    print(e)"
   ]
  },
  {
   "cell_type": "markdown",
   "metadata": {},
   "source": [
    "### Combine the sales data by rows."
   ]
  },
  {
   "cell_type": "code",
   "execution_count": 34,
   "metadata": {},
   "outputs": [
    {
     "name": "stdout",
     "output_type": "stream",
     "text": [
      "Joined properly. Total count: 36821 == Joined count: 36821\n",
      "   order_ID                   product  quantity_ordered   price  \\\n",
      "0    141234                    iPhone                 1  700.00   \n",
      "1    141235  Lightning Charging Cable                 1   14.95   \n",
      "\n",
      "       order_date state     city  zip_code  \n",
      "0  01/22/19 21:25    FL  Orlando     32807  \n",
      "1  01/28/19 14:15    FL    Miami     33137  \n"
     ]
    }
   ],
   "source": [
    "# Combine the January, February, and March sales DataFrames on the rows using an inner join, and reset the index\n",
    "# Combine the January, February, and March sales DataFrames on the rows using an inner join, and reset the index\n",
    "try:\n",
    "  sales = pd.concat([jan, feb,mar], axis='rows',join = 'inner', ignore_index=False).reset_index()\n",
    "\n",
    "  #unit test - check if joined properly\n",
    "  # sum of all data frame count\n",
    "  total_count = jan.shape[0] + feb.shape[0] + mar.shape[0]  \n",
    "\n",
    "  # Count after all data frame combined \n",
    "  # Assuming 'sales' is a DataFrame or any other data structure with rows representing sales data\n",
    "\n",
    "  # Get the total number of rows in the 'sales' DataFrame\n",
    "  total_joined_count = sales.shape[0]   \n",
    "\n",
    "# Check if the total number of rows in 'sales' matches the expected total count\n",
    "  if total_count == total_joined_count:\n",
    "    # If the counts match, print a message indicating successful joining\n",
    "    print(f\"Joined properly. Total count: {total_count} == Joined count: {total_joined_count}\")\n",
    "  else:\n",
    "    # If the counts do not match, print an error message indicating a problem in joining\n",
    "    print(f'Error on joining. Total count: {total_count} != Joined count: {total_joined_count}')\n",
    "  print(sales.head(2))\n",
    "except NameError as ne:\n",
    "  print(ne)\n",
    "\n"
   ]
  },
  {
   "cell_type": "code",
   "execution_count": 35,
   "metadata": {},
   "outputs": [
    {
     "name": "stdout",
     "output_type": "stream",
     "text": [
      "order_ID            0\n",
      "product             0\n",
      "quantity_ordered    0\n",
      "price               0\n",
      "order_date          0\n",
      "state               0\n",
      "city                0\n",
      "zip_code            0\n",
      "dtype: int64\n"
     ]
    }
   ],
   "source": [
    "# Check if any values are null.\n",
    "try:\n",
    " print(sales.isna().sum())\n",
    "except NameError as e:\n",
    "  print(e)"
   ]
  },
  {
   "cell_type": "code",
   "execution_count": 36,
   "metadata": {},
   "outputs": [
    {
     "name": "stdout",
     "output_type": "stream",
     "text": [
      "<class 'pandas.core.frame.DataFrame'>\n",
      "RangeIndex: 36821 entries, 0 to 36820\n",
      "Data columns (total 8 columns):\n",
      " #   Column            Non-Null Count  Dtype  \n",
      "---  ------            --------------  -----  \n",
      " 0   order_ID          36821 non-null  int64  \n",
      " 1   product           36821 non-null  object \n",
      " 2   quantity_ordered  36821 non-null  int64  \n",
      " 3   price             36821 non-null  float64\n",
      " 4   order_date        36821 non-null  object \n",
      " 5   state             36821 non-null  object \n",
      " 6   city              36821 non-null  object \n",
      " 7   zip_code          36821 non-null  int64  \n",
      "dtypes: float64(1), int64(3), object(4)\n",
      "memory usage: 2.2+ MB\n",
      "None\n"
     ]
    }
   ],
   "source": [
    "# Check the data type of each column\n",
    "try:\n",
    "  print(sales.info())\n",
    "except NameError as e:\n",
    "  print(e)"
   ]
  },
  {
   "cell_type": "code",
   "execution_count": 37,
   "metadata": {},
   "outputs": [],
   "source": [
    "# Convert the \"order_date\" column to a datetime datatype.\n",
    "# Convert the \"order_date\" column to a datetime datatype.\n",
    "try:\n",
    "  sales['order_date'] = pd.to_datetime(sales['order_date'], format='%m/%d/%y %H:%M')\n",
    "except NameError as e:\n",
    "  print(e)\n"
   ]
  },
  {
   "cell_type": "code",
   "execution_count": 38,
   "metadata": {},
   "outputs": [
    {
     "name": "stdout",
     "output_type": "stream",
     "text": [
      "0   2019-01-22 21:25:00\n",
      "1   2019-01-28 14:15:00\n",
      "2   2019-01-17 13:33:00\n",
      "3   2019-01-05 20:33:00\n",
      "4   2019-01-25 11:59:00\n",
      "Name: order_date, dtype: datetime64[ns]\n"
     ]
    }
   ],
   "source": [
    "# Confirm that the data type has been changed.\n",
    "try:\n",
    " print(sales['order_date'].head())\n",
    "except NameError as e:\n",
    " print(f\"No data frame name as {e}\")\n",
    "except KeyError as ke:\n",
    " print(f\"No column name as {ke}\")"
   ]
  },
  {
   "cell_type": "markdown",
   "metadata": {},
   "source": [
    "### 1. Which top five zip codes in which cities and states had the greatest number of products ordered?"
   ]
  },
  {
   "cell_type": "markdown",
   "metadata": {},
   "source": [
    "### Using `groupby`"
   ]
  },
  {
   "cell_type": "code",
   "execution_count": 39,
   "metadata": {},
   "outputs": [
    {
     "name": "stdout",
     "output_type": "stream",
     "text": [
      "                              avg_items_ordered\n",
      "state city          zip_code                   \n",
      "IL    Chicago       60629                   909\n",
      "CA    San Diego     92029                   873\n",
      "                    91911                   870\n",
      "NY    New York City 10001                   866\n",
      "OH    Columbus      43201                   866\n"
     ]
    }
   ],
   "source": [
    "Categorical_columns= ['state','city','zip_code']\n",
    "Numerical_columns  = 'quantity_ordered'\n",
    "try:\n",
    "  # Show the average number items ordered for each state, city, and zip code.\n",
    "  avg_items_ordered = sales.groupby(Categorical_columns).agg({Numerical_columns: 'sum'})\n",
    "\n",
    "  # Rename the sum column to reflect the data in the column.\n",
    "  avg_items_ordered.rename(columns={'quantity_ordered':'avg_items_ordered'},inplace= True)\n",
    "\n",
    "  # Show the top 5 results.\n",
    "  print(avg_items_ordered.sort_values(by='avg_items_ordered', ascending=False).head())\n",
    "except KeyError as ke:\n",
    "  print(f\"No column name as {ke}\")\n",
    "except NameError as ne:\n",
    "  print(ne)"
   ]
  },
  {
   "cell_type": "markdown",
   "metadata": {},
   "source": [
    "### Using `pivot_table`"
   ]
  },
  {
   "cell_type": "code",
   "execution_count": 40,
   "metadata": {},
   "outputs": [
    {
     "name": "stdout",
     "output_type": "stream",
     "text": [
      "                              total_items_ordered\n",
      "state city          zip_code                     \n",
      "IL    Chicago       60629                     909\n",
      "CA    San Diego     92029                     873\n",
      "                    91911                     870\n",
      "NY    New York City 10001                     866\n",
      "OH    Columbus      43201                     866\n"
     ]
    }
   ],
   "source": [
    "# Show the total number of items ordered for each state, city, and zip code.\n",
    "try:\n",
    "  items_ordered_pivot = pd.pivot_table(sales, values=Numerical_columns, index=Categorical_columns, aggfunc='sum')\n",
    "\n",
    "  # Rename the \"sum\" column to \"Avg_Number_Products_Ordered\"\n",
    "  items_ordered_pivot.rename(columns={'quantity_ordered':'total_items_ordered'},inplace= True)\n",
    "\n",
    "  # Show the top 5 results.\n",
    "  print(items_ordered_pivot.sort_values('total_items_ordered', ascending= False).head())\n",
    "except KeyError as ke:\n",
    "  print(f\"No column name as {ke}\")\n",
    "except NameError as ne:\n",
    "  print(ne)"
   ]
  },
  {
   "cell_type": "markdown",
   "metadata": {},
   "source": [
    "### 2. Which top five zip codes in which cities and states generated the most sales?"
   ]
  },
  {
   "cell_type": "markdown",
   "metadata": {},
   "source": [
    "### Using `groupby`"
   ]
  },
  {
   "cell_type": "code",
   "execution_count": 41,
   "metadata": {},
   "outputs": [
    {
     "name": "stdout",
     "output_type": "stream",
     "text": [
      "                             total_sales_price\n",
      "state city          zip_code                  \n",
      "NY    Buffalo       14201          $155,976.70\n",
      "IL    Chicago       60629          $150,667.34\n",
      "CA    San Diego     92029          $150,305.41\n",
      "      San Francisco 94102          $146,115.98\n",
      "NY    New York City 10013          $145,934.27\n"
     ]
    }
   ],
   "source": [
    "# Show the total price for the items ordered for each state, city, and zip code.\n",
    "try:\n",
    "    Numerical_columns_2 = 'price'\n",
    "    total_sales = sales.groupby(Categorical_columns).agg({Numerical_columns_2: 'sum'})\n",
    "    # Rename the sum column to reflect the data in the column.\n",
    "    total_sales.rename(columns={'price':'total_sales_price'},inplace= True)\n",
    "\n",
    "    total_sales.rename(columns={'total_price':'total_sales_price'},inplace= True)\n",
    "    # Show the top 5 results.\n",
    "    print(total_sales.sort_values(by='total_sales_price', ascending=False).head().map('${:,.2f}'.format))\n",
    "except KeyError as ke:\n",
    "  print(f\"No column name as {ke}\")\n",
    "except NameError as ne:\n",
    "  print(ne)\n",
    "except AttributeError as at:\n",
    "  print(at)"
   ]
  },
  {
   "cell_type": "markdown",
   "metadata": {},
   "source": [
    "### Using `pivot_table`"
   ]
  },
  {
   "cell_type": "code",
   "execution_count": 42,
   "metadata": {},
   "outputs": [
    {
     "name": "stdout",
     "output_type": "stream",
     "text": [
      "                              total_price\n",
      "state city          zip_code             \n",
      "NY    Buffalo       14201     $155,976.70\n",
      "IL    Chicago       60629     $150,667.34\n",
      "CA    San Diego     92029     $150,305.41\n",
      "      San Francisco 94102     $146,115.98\n",
      "NY    New York City 10013     $145,934.27\n"
     ]
    }
   ],
   "source": [
    "# Show the total price for all of the items ordered for each state, city, and zip code.\n",
    "try:\n",
    "    total_sales_pivot = pd.pivot_table(sales, values=Numerical_columns_2, index=Categorical_columns, aggfunc='sum')\n",
    "\n",
    "    # Rename the \"price\" column to \"Avg_Number_Products_Ordered\"\n",
    "    total_sales_pivot.rename(columns={'price':'total_price'},inplace= True)\n",
    "    # Show the top 5 results.\n",
    "    print(total_sales_pivot.sort_values('total_price', ascending = False).head().map('${:,.2f}'.format))\n",
    "except KeyError as ke:\n",
    "  print(f\"No column name as {ke}\")\n",
    "except NameError as ne:\n",
    "  print(ne)\n",
    "except AttributeError as at:\n",
    "  print(at)\n"
   ]
  },
  {
   "cell_type": "markdown",
   "metadata": {},
   "source": [
    "### 3. Which top five zip codes in which cities and states had the greatest average price for the products ordered?"
   ]
  },
  {
   "cell_type": "markdown",
   "metadata": {},
   "source": [
    "### Using `groupby`"
   ]
  },
  {
   "cell_type": "code",
   "execution_count": 43,
   "metadata": {},
   "outputs": [
    {
     "name": "stdout",
     "output_type": "stream",
     "text": [
      "                             avg_price\n",
      "state city          zip_code          \n",
      "NY    New York City 10013      $212.11\n",
      "CA    San Francisco 94102      $210.85\n",
      "TX    Austin        78745      $205.63\n",
      "NY    Buffalo       14201      $203.89\n",
      "CA    San Diego     92029      $196.73\n"
     ]
    }
   ],
   "source": [
    "# Show the average price of items ordered for each state, city, and zip code rounded to two decimal places.\n",
    "Numerical_columns_3 = 'price'\n",
    "try:\n",
    "    avg_price = sales.groupby(Categorical_columns).agg({Numerical_columns_3: 'mean'})\n",
    "\n",
    "    # Rename the sum column to reflect the data in the column.\n",
    "    avg_price.rename(columns={'price':'avg_price'},inplace= True)\n",
    "\n",
    "    # Show the top 5 results.\n",
    "    print(avg_price.sort_values('avg_price', ascending = False).head().map('${:,.2f}'.format))\n",
    "except KeyError as ke:\n",
    "  print(f\"No column name as {ke}\")\n",
    "except NameError as ne:\n",
    "   print(f\"No data frame name as {ne}\")\n",
    "except AttributeError as at:\n",
    "  print(at)\n"
   ]
  },
  {
   "cell_type": "markdown",
   "metadata": {},
   "source": [
    "### Using `pivot_table`"
   ]
  },
  {
   "cell_type": "code",
   "execution_count": 44,
   "metadata": {},
   "outputs": [
    {
     "name": "stdout",
     "output_type": "stream",
     "text": [
      "                             avg_price\n",
      "state city          zip_code          \n",
      "NY    New York City 10013      $212.11\n",
      "CA    San Francisco 94102      $210.85\n",
      "TX    Austin        78745      $205.63\n",
      "NY    Buffalo       14201      $203.89\n",
      "CA    San Diego     92029      $196.73\n"
     ]
    }
   ],
   "source": [
    "# Show the average price per product ordered for each state, city, and zip code rounded to two decimal places.\n",
    "try:\n",
    "    avg_price_pivot = pd.pivot_table(sales, values=Numerical_columns_3, index=Categorical_columns, aggfunc='mean')\n",
    "\n",
    "    # Rename the \"price\" column to \"Avg_Number_Products_Ordered\"\n",
    "    avg_price_pivot.rename(columns={'price':'avg_price'},inplace= True)\n",
    "    # Show the top 5 results.\n",
    "    print(avg_price_pivot.sort_values(by = 'avg_price', ascending = False).head().map('${:,.2f}'.format))\n",
    "except KeyError as ke:\n",
    "  print(f\"No column name as {ke}\")\n",
    "except NameError as ne:\n",
    "   print(f\"No data frame name as {ne}\")\n",
    "except AttributeError as at:\n",
    "  print(at)"
   ]
  },
  {
   "cell_type": "markdown",
   "metadata": {},
   "source": [
    "### 4. Which top five zip codes in which cities and states had the most iPhone sales?"
   ]
  },
  {
   "cell_type": "code",
   "execution_count": 45,
   "metadata": {},
   "outputs": [
    {
     "name": "stdout",
     "output_type": "stream",
     "text": [
      "['iPhone']\n"
     ]
    }
   ],
   "source": [
    "# Filter the sales data to get the iPhone sales data.\n",
    "# Filter the sales data to get the iPhone sales data.\n",
    "try:\n",
    "    iphone_sales = sales[sales['product'].str.contains('iphone',case=False)]\n",
    "\n",
    "#print uniqe product\n",
    "    print(iphone_sales['product'].unique())\n",
    "except NameError as ne:\n",
    "   print(f\"No data frame name as {ne}\")\n",
    "except KeyError as ke:\n",
    "  print(f\"No column name as {ke}\")\n",
    "\n",
    "\n",
    "  "
   ]
  },
  {
   "cell_type": "markdown",
   "metadata": {},
   "source": [
    "### Using `groupby`"
   ]
  },
  {
   "cell_type": "code",
   "execution_count": 46,
   "metadata": {},
   "outputs": [
    {
     "name": "stdout",
     "output_type": "stream",
     "text": [
      "                              count\n",
      "state city          zip_code       \n",
      "NY    New York City 10001        40\n",
      "                    10013        36\n",
      "      Buffalo       14201        35\n",
      "TX    Austin        78701        34\n",
      "CA    San Francisco 94102        33\n"
     ]
    }
   ],
   "source": [
    "# Show the total number of items ordered for each state, city, and zip code.\n",
    "try:\n",
    "    iphone_order = iphone_sales.groupby(Categorical_columns).agg({'product': 'count'})\n",
    "    # Rename the count column to reflect the data in the column.\n",
    "    iphone_order.rename(columns= {'product':'count'}, inplace= True)\n",
    "    # Show the top 5 results.\n",
    "    print(iphone_order.sort_values(by = 'count', ascending= False).head())\n",
    "except NameError as ne:\n",
    "   print(f\"No data frame name as {ne}\")\n",
    "except KeyError as ke:\n",
    "  print(f\"No column name as {ke}\")\n"
   ]
  },
  {
   "cell_type": "markdown",
   "metadata": {},
   "source": [
    "### Using `pivot_table`"
   ]
  },
  {
   "cell_type": "code",
   "execution_count": 47,
   "metadata": {},
   "outputs": [
    {
     "name": "stdout",
     "output_type": "stream",
     "text": [
      "                              number_ordered\n",
      "state city          zip_code                \n",
      "NY    New York City 10001                 40\n",
      "                    10013                 36\n",
      "      Buffalo       14201                 35\n",
      "TX    Austin        78701                 34\n",
      "CA    San Francisco 94102                 33\n"
     ]
    }
   ],
   "source": [
    "# Show the total number of items ordered for each city and zip code.\n",
    "try:\n",
    "    iphone_order_pivot = pd.pivot_table(iphone_sales, values = 'quantity_ordered', index=Categorical_columns, aggfunc='sum')\n",
    "    # Rename the \"quantity_ordered\" column to \"Number_Ordered\"\n",
    "\n",
    "    iphone_order_pivot.rename(columns={'quantity_ordered':'number_ordered'}, inplace= True)\n",
    "    # Show the top 5 results.\n",
    "    print(iphone_order_pivot.sort_values(by = 'number_ordered', ascending= False).head())\n",
    "except NameError as ne:\n",
    "   print(f\"No data frame name as {ne}\")\n",
    "except KeyError as ke:\n",
    "  print(f\"No column name as {ke}\")\n",
    "except AttributeError as at:\n",
    "  print(at)\n"
   ]
  },
  {
   "cell_type": "markdown",
   "metadata": {},
   "source": [
    "### 5. Which day had the most iPhone sales?"
   ]
  },
  {
   "cell_type": "code",
   "execution_count": 48,
   "metadata": {},
   "outputs": [
    {
     "name": "stdout",
     "output_type": "stream",
     "text": [
      "                    Total_sales\n",
      "order_date                     \n",
      "2019-01-22 21:25:00     $700.00\n",
      "2019-01-09 18:23:00     $700.00\n",
      "2019-01-06 16:54:00     $700.00\n",
      "2019-01-10 15:40:00     $700.00\n",
      "2019-01-09 22:11:00     $700.00\n"
     ]
    }
   ],
   "source": [
    "# Create a pivot table with the 'order_date' as the index and the \"price\" as the values.\n",
    "try:\n",
    "  sales_iphone_pivot = iphone_sales[['order_date','price']].set_index('order_date')\n",
    "\n",
    "  # Rename the \"price\" column to \"Total_Sales\"\n",
    "  sales_iphone_pivot.rename(columns={'price':'Total_sales'},inplace=True)\n",
    "\n",
    "  #Show the table.\n",
    "  print(sales_iphone_pivot.head().map('${:,.2f}'.format))\n",
    "except NameError as ne:\n",
    "   print(f\"No data frame name as {ne}\")\n",
    "except KeyError as ke:\n",
    "  print(f\"No column name as {ke}\")\n",
    "except AttributeError as at:\n",
    "  print(at)\n",
    "\n"
   ]
  },
  {
   "cell_type": "code",
   "execution_count": 49,
   "metadata": {},
   "outputs": [
    {
     "name": "stdout",
     "output_type": "stream",
     "text": [
      "           Total_sales\n",
      "order_date            \n",
      "2019-03-27  $18,900.00\n",
      "2019-02-08  $16,800.00\n",
      "2019-03-26  $16,800.00\n",
      "2019-03-02  $16,100.00\n",
      "2019-01-26  $16,100.00\n"
     ]
    }
   ],
   "source": [
    "# Resample the pivot table into daily bins \n",
    "try:\n",
    "    daily_iphone_sales = sales_iphone_pivot.resample('D')\n",
    "    # and get the total sales for each day rounded to two decimal places.\n",
    "    # Sort the resampled pivot table in ascending order on \"Total_Sales\".\n",
    "    total_daily_iphone_sales = daily_iphone_sales.sum().sort_values(by = 'Total_sales', ascending= False)\n",
    "\n",
    "    #Print head\n",
    "    print(total_daily_iphone_sales.head().map('${:,.2f}'.format))\n",
    "except NameError as ne:\n",
    "   print(f\"No data frame name as {ne}\")\n",
    "except KeyError as ke:\n",
    "  print(f\"No column name as {ke}\")\n"
   ]
  },
  {
   "cell_type": "markdown",
   "metadata": {},
   "source": [
    "### 6.  Which week had the most iPhone sales?"
   ]
  },
  {
   "cell_type": "code",
   "execution_count": 50,
   "metadata": {},
   "outputs": [
    {
     "name": "stdout",
     "output_type": "stream",
     "text": [
      "           Total_sales\n",
      "order_date            \n",
      "2019-03-31  $97,300.00\n",
      "2019-02-10  $85,400.00\n",
      "2019-03-10  $81,900.00\n",
      "2019-03-17  $81,900.00\n",
      "2019-03-03  $78,400.00\n"
     ]
    }
   ],
   "source": [
    "try:\n",
    "    # Resample the pivot table into daily bins \n",
    "    weekly_iphone_sales = sales_iphone_pivot.resample('W')\n",
    "    # and get the total sales for each day rounded to two decimal places.\n",
    "    # Sort the resampled pivot table in ascending order on \"Total_Sales\".\n",
    "    total_weekly_iphone_sales = weekly_iphone_sales.sum().sort_values(by = 'Total_sales', ascending= False)\n",
    "    #Print head\n",
    "    print(total_weekly_iphone_sales.head().map('${:,.2f}'.format))\n",
    "except NameError as ne:\n",
    "   print(f\"No data frame name as {ne}\")\n",
    "except KeyError as ke:\n",
    "  print(f\"No column name as {ke}\")\n",
    "except AttributeError as at:\n",
    "  print(at)"
   ]
  }
 ],
 "metadata": {
  "kernelspec": {
   "display_name": "Python 3 (ipykernel)",
   "language": "python",
   "name": "python3"
  },
  "language_info": {
   "codemirror_mode": {
    "name": "ipython",
    "version": 3
   },
   "file_extension": ".py",
   "mimetype": "text/x-python",
   "name": "python",
   "nbconvert_exporter": "python",
   "pygments_lexer": "ipython3",
   "version": "3.10.12"
  }
 },
 "nbformat": 4,
 "nbformat_minor": 4
}
